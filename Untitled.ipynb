{
 "cells": [
  {
   "cell_type": "code",
   "execution_count": 2,
   "id": "conservative-appointment",
   "metadata": {},
   "outputs": [
    {
     "name": "stdout",
     "output_type": "stream",
     "text": [
      "Package                      Version  \n",
      "---------------------------- ---------\n",
      "absl-py                      1.0.0    \n",
      "astunparse                   1.6.3    \n",
      "beautifulsoup4               4.10.0   \n",
      "cachetools                   5.0.0    \n",
      "certifi                      2020.12.5\n",
      "charset-normalizer           2.0.11   \n",
      "click                        8.0.0    \n",
      "deepface                     0.0.72   \n",
      "dlib                         19.23.0  \n",
      "face-recognition             1.3.0    \n",
      "face-recognition-models      0.3.0    \n",
      "filelock                     3.4.2    \n",
      "Flask                        2.0.0    \n",
      "Flask-Cors                   3.0.10   \n",
      "flatbuffers                  2.0      \n",
      "gast                         0.4.0    \n",
      "gdown                        4.2.1    \n",
      "google-auth                  2.6.0    \n",
      "google-auth-oauthlib         0.4.6    \n",
      "google-pasta                 0.2.0    \n",
      "grpcio                       1.43.0   \n",
      "h5py                         3.6.0    \n",
      "idna                         3.3      \n",
      "imageio                      2.14.1   \n",
      "imutils                      0.5.4    \n",
      "itsdangerous                 2.0.1    \n",
      "Jinja2                       3.0.1    \n",
      "keras                        2.8.0    \n",
      "Keras-Preprocessing          1.1.2    \n",
      "libclang                     13.0.0   \n",
      "Markdown                     3.3.4    \n",
      "MarkupSafe                   2.0.1    \n",
      "mtcnn                        0.1.1    \n",
      "networkx                     2.6.3    \n",
      "numpy                        1.22.1   \n",
      "oauthlib                     3.2.0    \n",
      "opencv-python                4.5.5.62 \n",
      "opt-einsum                   3.3.0    \n",
      "packaging                    21.3     \n",
      "pandas                       1.4.0    \n",
      "Pillow                       9.0.0    \n",
      "pip                          20.0.2   \n",
      "pkg-resources                0.0.0    \n",
      "protobuf                     3.19.4   \n",
      "pyasn1                       0.4.8    \n",
      "pyasn1-modules               0.2.8    \n",
      "pyparsing                    3.0.7    \n",
      "PySocks                      1.7.1    \n",
      "python-dateutil              2.8.2    \n",
      "pytz                         2021.3   \n",
      "PyWavelets                   1.2.0    \n",
      "requests                     2.27.1   \n",
      "requests-oauthlib            1.3.1    \n",
      "retina-face                  0.0.9    \n",
      "rsa                          4.8      \n",
      "scikit-image                 0.19.1   \n",
      "scipy                        1.7.3    \n",
      "setuptools                   44.0.0   \n",
      "six                          1.16.0   \n",
      "soupsieve                    2.3.1    \n",
      "tensorboard                  2.8.0    \n",
      "tensorboard-data-server      0.6.1    \n",
      "tensorboard-plugin-wit       1.8.1    \n",
      "tensorflow                   2.7.0    \n",
      "tensorflow-estimator         2.7.0    \n",
      "tensorflow-io-gcs-filesystem 0.23.1   \n",
      "termcolor                    1.1.0    \n",
      "tifffile                     2021.11.2\n",
      "tqdm                         4.62.3   \n",
      "typing-extensions            4.0.1    \n",
      "urllib3                      1.26.8   \n",
      "Werkzeug                     2.0.1    \n",
      "wheel                        0.37.1   \n",
      "wrapt                        1.13.3   \n"
     ]
    }
   ],
   "source": [
    "!pip list\n"
   ]
  },
  {
   "cell_type": "code",
   "execution_count": 4,
   "id": "technological-thanksgiving",
   "metadata": {},
   "outputs": [
    {
     "ename": "ModuleNotFoundError",
     "evalue": "No module named 'opencv'",
     "output_type": "error",
     "traceback": [
      "\u001b[0;31m---------------------------------------------------------------------------\u001b[0m",
      "\u001b[0;31mModuleNotFoundError\u001b[0m                       Traceback (most recent call last)",
      "\u001b[0;32m<ipython-input-4-140d3f9c9adb>\u001b[0m in \u001b[0;36m<module>\u001b[0;34m\u001b[0m\n\u001b[0;32m----> 1\u001b[0;31m \u001b[0;32mimport\u001b[0m \u001b[0mopencv\u001b[0m\u001b[0;34m\u001b[0m\u001b[0;34m\u001b[0m\u001b[0m\n\u001b[0m",
      "\u001b[0;31mModuleNotFoundError\u001b[0m: No module named 'opencv'"
     ]
    }
   ],
   "source": [
    "import opencv"
   ]
  },
  {
   "cell_type": "code",
   "execution_count": null,
   "id": "champion-reservoir",
   "metadata": {},
   "outputs": [],
   "source": []
  }
 ],
 "metadata": {
  "kernelspec": {
   "display_name": "Python 3",
   "language": "python",
   "name": "python3"
  },
  "language_info": {
   "codemirror_mode": {
    "name": "ipython",
    "version": 3
   },
   "file_extension": ".py",
   "mimetype": "text/x-python",
   "name": "python",
   "nbconvert_exporter": "python",
   "pygments_lexer": "ipython3",
   "version": "3.8.10"
  }
 },
 "nbformat": 4,
 "nbformat_minor": 5
}
